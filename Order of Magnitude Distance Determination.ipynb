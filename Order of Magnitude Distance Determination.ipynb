{
 "cells": [
  {
   "cell_type": "code",
   "execution_count": 1,
   "id": "386e26b7",
   "metadata": {},
   "outputs": [
    {
     "name": "stderr",
     "output_type": "stream",
     "text": [
      "C:\\Users\\allen\\AppData\\Local\\Temp\\ipykernel_10392\\1464609157.py:7: MatplotlibDeprecationWarning: The seaborn styles shipped by Matplotlib are deprecated since 3.6, as they no longer correspond to the styles shipped by seaborn. However, they will remain available as 'seaborn-v0_8-<style>'. Alternatively, directly use the seaborn API instead.\n",
      "  plt.style.use('seaborn-whitegrid')\n"
     ]
    },
    {
     "name": "stdout",
     "output_type": "stream",
     "text": [
      "Enter the full file path (including filename): C:\\Users\\allen\\CS309\\WISECATALOG.txt\n",
      "Number of objects: 8398\n"
     ]
    },
    {
     "data": {
      "image/png": "[encoded data removed]",
      "text/plain": [
       "<Figure size 432x288 with 1 Axes>"
      ]
     },
     "metadata": {
      "needs_background": "light"
     },
     "output_type": "display_data"
    },
    {
     "data": {
      "image/png": "[encoded data removed]",
      "text/plain": [
       "<Figure size 432x288 with 1 Axes>"
      ]
     },
     "metadata": {
      "needs_background": "light"
     },
     "output_type": "display_data"
    },
    {
     "name": "stdout",
     "output_type": "stream",
     "text": [
      "O5 Radius estimation yields 104.584 to 2475.177 Kilo Parsecs\n",
      "B0.5 Radius estimation yields 11.62 to 275.019 Kilo Parsecs\n"
     ]
    }
   ],
   "source": [
    "import matplotlib.pyplot as plt\n",
    "import numpy as np\n",
    "import math\n",
    "import os\n",
    "\n",
    "# Set the style for matplotlib\n",
    "plt.style.use('seaborn-whitegrid')\n",
    "\n",
    "def read_data(filepath):\n",
    "    \"\"\"\n",
    "    Reads data from a file at the given filepath, extracting longitude, latitude, and area information for each object.\n",
    "    Returns lists of longitude, latitude, and area.\n",
    "    \"\"\"\n",
    "    with open(filepath, 'r') as file:\n",
    "        objects = file.read().splitlines()\n",
    "\n",
    "    longitudes = [float(obj[19:25]) for obj in objects[50:]]\n",
    "    latitudes = [float(obj[27:33]) for obj in objects[50:]]\n",
    "    areas = [(float(obj[35:38]) * (1 / 3600) * (math.pi / 180)) for obj in objects[50:]]\n",
    "\n",
    "    return longitudes, latitudes, areas\n",
    "\n",
    "def calculate_distance(area, radius):\n",
    "    \"\"\"\n",
    "    Calculates distance using the formula 2 * (radius / (2 * math.tan(area / 2))).\n",
    "    \"\"\"\n",
    "    return [2 * (radius / (2 * math.tan(a / 2))) for a in area]\n",
    "\n",
    "def plot_histogram(data, bins, title):\n",
    "    \"\"\"\n",
    "    Plots a histogram of the data.\n",
    "    \"\"\"\n",
    "    plt.hist(data, bins=bins)\n",
    "    plt.title(title)\n",
    "    plt.show()\n",
    "\n",
    "def estimate_radius(distances):\n",
    "    \"\"\"\n",
    "    Estimates the radius range based on the 5th and 95th percentile of the distances.\n",
    "    \"\"\"\n",
    "    distances.sort()\n",
    "    lower_bound = int(distances[int(len(distances) * 0.05)]) / 1000\n",
    "    upper_bound = int(distances[int(len(distances) * 0.95)]) / 1000\n",
    "    return lower_bound, upper_bound\n",
    "\n",
    "# Constants\n",
    "RADIANS = {\n",
    "    'O5': 108,\n",
    "    'B0.5': 12\n",
    "}\n",
    "\n",
    "if __name__ == \"__main__\":\n",
    "    filepath = input(\"Enter the full file path (including filename): \")\n",
    "\n",
    "    if not os.path.exists(filepath):\n",
    "        print(\"File does not exist. Please check the path and filename.\")\n",
    "    else:\n",
    "        longitudes, latitudes, areas = read_data(filepath)\n",
    "        print(f\"Number of objects: {len(longitudes)}\")\n",
    "\n",
    "        distO5 = calculate_distance(areas, RADIANS['O5'])\n",
    "        plot_histogram(distO5, 100, \"Histogram of incidence vs Distance (Mpc)\")\n",
    "\n",
    "        distB5 = calculate_distance(areas, RADIANS['B0.5'])\n",
    "        plot_histogram(distB5, 'auto', \"Histogram for B0.5 Radius Regions\")\n",
    "\n",
    "        o5_lower, o5_upper = estimate_radius(distO5)\n",
    "        print(f'O5 Radius estimation yields {o5_lower} to {o5_upper} Kilo Parsecs')\n",
    "\n",
    "        b05_lower, b05_upper = estimate_radius(distB5)\n",
    "        print(f'B0.5 Radius estimation yields {b05_lower} to {b05_upper} Kilo Parsecs')\n",
    "\n",
    "\n"
   ]
  },
  {
   "cell_type": "code",
   "execution_count": null,
   "id": "92daed00",
   "metadata": {},
   "outputs": [],
   "source": [
    "C:\\Users\\allen\\CS309\\WISECATALOG.txt"
   ]
  }
 ],
 "metadata": {
  "kernelspec": {
   "display_name": "Python 3 (ipykernel)",
   "language": "python",
   "name": "python3"
  },
  "language_info": {
   "codemirror_mode": {
    "name": "ipython",
    "version": 3
   },
   "file_extension": ".py",
   "mimetype": "text/x-python",
   "name": "python",
   "nbconvert_exporter": "python",
   "pygments_lexer": "ipython3",
   "version": "3.8.12"
  }
 },
 "nbformat": 4,
 "nbformat_minor": 5
}
